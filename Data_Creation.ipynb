{
  "nbformat": 4,
  "nbformat_minor": 0,
  "metadata": {
    "colab": {
      "name": "Data_Creation.ipynb",
      "provenance": [],
      "include_colab_link": true
    },
    "kernelspec": {
      "name": "python3",
      "display_name": "Python 3"
    }
  },
  "cells": [
    {
      "cell_type": "markdown",
      "metadata": {
        "id": "view-in-github",
        "colab_type": "text"
      },
      "source": [
        "<a href=\"https://colab.research.google.com/github/Rahullnitp/Data_Cleaning_And_Preprocessing/blob/master/Data_Creation.ipynb\" target=\"_parent\"><img src=\"https://colab.research.google.com/assets/colab-badge.svg\" alt=\"Open In Colab\"/></a>"
      ]
    },
    {
      "cell_type": "markdown",
      "metadata": {
        "id": "MaXrHl8yyE6a",
        "colab_type": "text"
      },
      "source": [
        "#Dataset creation"
      ]
    },
    {
      "cell_type": "code",
      "metadata": {
        "id": "6VR4YIu7yEPZ",
        "colab_type": "code",
        "colab": {}
      },
      "source": [
        "import os\n",
        "import pandas as pd\n",
        "import numpy as np\n",
        "import matplotlib.pyplot as plt\n",
        "import seaborn as sns\n",
        "%matplotlib inline\n"
      ],
      "execution_count": 0,
      "outputs": []
    },
    {
      "cell_type": "markdown",
      "metadata": {
        "id": "RPrADbrPy-3z",
        "colab_type": "text"
      },
      "source": [
        "####i).Data creation using \"random.randn\"\n",
        "\n",
        "       \n",
        "randn create a dataset with normal distribution with mean = 0 and variance = 1."
      ]
    },
    {
      "cell_type": "code",
      "metadata": {
        "id": "-Isj1SwCnzPg",
        "colab_type": "code",
        "colab": {}
      },
      "source": [
        "#dataset with 1000 rows and 4 columns\n",
        "data=pd.DataFrame(np.random.randn(1000,4),columns=list('ABCD'))"
      ],
      "execution_count": 0,
      "outputs": []
    },
    {
      "cell_type": "code",
      "metadata": {
        "id": "y32AKYqGzYZ6",
        "colab_type": "code",
        "outputId": "8b98d064-1b96-4c4a-f31c-73fedac9e352",
        "colab": {
          "base_uri": "https://localhost:8080/",
          "height": 204
        }
      },
      "source": [
        "data.head()"
      ],
      "execution_count": 4,
      "outputs": [
        {
          "output_type": "execute_result",
          "data": {
            "text/html": [
              "<div>\n",
              "<style scoped>\n",
              "    .dataframe tbody tr th:only-of-type {\n",
              "        vertical-align: middle;\n",
              "    }\n",
              "\n",
              "    .dataframe tbody tr th {\n",
              "        vertical-align: top;\n",
              "    }\n",
              "\n",
              "    .dataframe thead th {\n",
              "        text-align: right;\n",
              "    }\n",
              "</style>\n",
              "<table border=\"1\" class=\"dataframe\">\n",
              "  <thead>\n",
              "    <tr style=\"text-align: right;\">\n",
              "      <th></th>\n",
              "      <th>A</th>\n",
              "      <th>B</th>\n",
              "      <th>C</th>\n",
              "      <th>D</th>\n",
              "    </tr>\n",
              "  </thead>\n",
              "  <tbody>\n",
              "    <tr>\n",
              "      <th>0</th>\n",
              "      <td>2.180733</td>\n",
              "      <td>-0.296313</td>\n",
              "      <td>-0.617577</td>\n",
              "      <td>0.339535</td>\n",
              "    </tr>\n",
              "    <tr>\n",
              "      <th>1</th>\n",
              "      <td>-0.603106</td>\n",
              "      <td>-1.276699</td>\n",
              "      <td>-0.184112</td>\n",
              "      <td>-0.972527</td>\n",
              "    </tr>\n",
              "    <tr>\n",
              "      <th>2</th>\n",
              "      <td>-0.940973</td>\n",
              "      <td>0.617654</td>\n",
              "      <td>0.030766</td>\n",
              "      <td>0.980758</td>\n",
              "    </tr>\n",
              "    <tr>\n",
              "      <th>3</th>\n",
              "      <td>-0.306400</td>\n",
              "      <td>-0.090558</td>\n",
              "      <td>0.193454</td>\n",
              "      <td>-0.985175</td>\n",
              "    </tr>\n",
              "    <tr>\n",
              "      <th>4</th>\n",
              "      <td>-0.489383</td>\n",
              "      <td>1.515001</td>\n",
              "      <td>0.732845</td>\n",
              "      <td>2.126190</td>\n",
              "    </tr>\n",
              "  </tbody>\n",
              "</table>\n",
              "</div>"
            ],
            "text/plain": [
              "          A         B         C         D\n",
              "0  2.180733 -0.296313 -0.617577  0.339535\n",
              "1 -0.603106 -1.276699 -0.184112 -0.972527\n",
              "2 -0.940973  0.617654  0.030766  0.980758\n",
              "3 -0.306400 -0.090558  0.193454 -0.985175\n",
              "4 -0.489383  1.515001  0.732845  2.126190"
            ]
          },
          "metadata": {
            "tags": []
          },
          "execution_count": 4
        }
      ]
    },
    {
      "cell_type": "code",
      "metadata": {
        "id": "5nL7dwwe0BCT",
        "colab_type": "code",
        "colab": {}
      },
      "source": [
        ""
      ],
      "execution_count": 0,
      "outputs": []
    },
    {
      "cell_type": "markdown",
      "metadata": {
        "id": "2hx1mcwx07Of",
        "colab_type": "text"
      },
      "source": [
        "###ii).Data Creation using \"random.randint\"\n",
        "\n",
        "Return random integers from the “discrete uniform” distribution of the specified dtype in the “half-open” interval [low, high). If high is None (the default), then results are from [0, low)."
      ]
    },
    {
      "cell_type": "code",
      "metadata": {
        "id": "2_-3ZXLv1F4g",
        "colab_type": "code",
        "colab": {}
      },
      "source": [
        "data1=pd.DataFrame(np.random.randint(0,100,size=(1000,4)),columns=list('ABCD'))"
      ],
      "execution_count": 0,
      "outputs": []
    },
    {
      "cell_type": "code",
      "metadata": {
        "id": "DMWtnHyo1uzm",
        "colab_type": "code",
        "outputId": "3bfa1479-f5c1-4b9b-acce-adcd6d76b817",
        "colab": {
          "base_uri": "https://localhost:8080/",
          "height": 204
        }
      },
      "source": [
        "data1.head()"
      ],
      "execution_count": 6,
      "outputs": [
        {
          "output_type": "execute_result",
          "data": {
            "text/html": [
              "<div>\n",
              "<style scoped>\n",
              "    .dataframe tbody tr th:only-of-type {\n",
              "        vertical-align: middle;\n",
              "    }\n",
              "\n",
              "    .dataframe tbody tr th {\n",
              "        vertical-align: top;\n",
              "    }\n",
              "\n",
              "    .dataframe thead th {\n",
              "        text-align: right;\n",
              "    }\n",
              "</style>\n",
              "<table border=\"1\" class=\"dataframe\">\n",
              "  <thead>\n",
              "    <tr style=\"text-align: right;\">\n",
              "      <th></th>\n",
              "      <th>A</th>\n",
              "      <th>B</th>\n",
              "      <th>C</th>\n",
              "      <th>D</th>\n",
              "    </tr>\n",
              "  </thead>\n",
              "  <tbody>\n",
              "    <tr>\n",
              "      <th>0</th>\n",
              "      <td>8</td>\n",
              "      <td>84</td>\n",
              "      <td>93</td>\n",
              "      <td>34</td>\n",
              "    </tr>\n",
              "    <tr>\n",
              "      <th>1</th>\n",
              "      <td>9</td>\n",
              "      <td>70</td>\n",
              "      <td>57</td>\n",
              "      <td>87</td>\n",
              "    </tr>\n",
              "    <tr>\n",
              "      <th>2</th>\n",
              "      <td>35</td>\n",
              "      <td>56</td>\n",
              "      <td>3</td>\n",
              "      <td>38</td>\n",
              "    </tr>\n",
              "    <tr>\n",
              "      <th>3</th>\n",
              "      <td>16</td>\n",
              "      <td>7</td>\n",
              "      <td>20</td>\n",
              "      <td>70</td>\n",
              "    </tr>\n",
              "    <tr>\n",
              "      <th>4</th>\n",
              "      <td>63</td>\n",
              "      <td>56</td>\n",
              "      <td>26</td>\n",
              "      <td>48</td>\n",
              "    </tr>\n",
              "  </tbody>\n",
              "</table>\n",
              "</div>"
            ],
            "text/plain": [
              "    A   B   C   D\n",
              "0   8  84  93  34\n",
              "1   9  70  57  87\n",
              "2  35  56   3  38\n",
              "3  16   7  20  70\n",
              "4  63  56  26  48"
            ]
          },
          "metadata": {
            "tags": []
          },
          "execution_count": 6
        }
      ]
    },
    {
      "cell_type": "code",
      "metadata": {
        "id": "8QxhtH9-1xH4",
        "colab_type": "code",
        "colab": {}
      },
      "source": [
        ""
      ],
      "execution_count": 0,
      "outputs": []
    },
    {
      "cell_type": "markdown",
      "metadata": {
        "id": "YypnNZok1zi3",
        "colab_type": "text"
      },
      "source": [
        "###iii).Data creation with some null values in it.\n",
        "\n",
        "create a dataframe with approximately 10% null values."
      ]
    },
    {
      "cell_type": "code",
      "metadata": {
        "id": "D_XWJo6c2hpg",
        "colab_type": "code",
        "colab": {}
      },
      "source": [
        "data_null=pd.DataFrame(np.random.randn(1000,4),columns=list('ABCD'))"
      ],
      "execution_count": 0,
      "outputs": []
    },
    {
      "cell_type": "code",
      "metadata": {
        "id": "Sohyp7dl2qMd",
        "colab_type": "code",
        "outputId": "c82c76c9-4f87-4784-e4e3-ed9fada86ab0",
        "colab": {
          "base_uri": "https://localhost:8080/",
          "height": 204
        }
      },
      "source": [
        "data_null.head()"
      ],
      "execution_count": 8,
      "outputs": [
        {
          "output_type": "execute_result",
          "data": {
            "text/html": [
              "<div>\n",
              "<style scoped>\n",
              "    .dataframe tbody tr th:only-of-type {\n",
              "        vertical-align: middle;\n",
              "    }\n",
              "\n",
              "    .dataframe tbody tr th {\n",
              "        vertical-align: top;\n",
              "    }\n",
              "\n",
              "    .dataframe thead th {\n",
              "        text-align: right;\n",
              "    }\n",
              "</style>\n",
              "<table border=\"1\" class=\"dataframe\">\n",
              "  <thead>\n",
              "    <tr style=\"text-align: right;\">\n",
              "      <th></th>\n",
              "      <th>A</th>\n",
              "      <th>B</th>\n",
              "      <th>C</th>\n",
              "      <th>D</th>\n",
              "    </tr>\n",
              "  </thead>\n",
              "  <tbody>\n",
              "    <tr>\n",
              "      <th>0</th>\n",
              "      <td>-0.119415</td>\n",
              "      <td>-0.521634</td>\n",
              "      <td>0.822300</td>\n",
              "      <td>-0.331749</td>\n",
              "    </tr>\n",
              "    <tr>\n",
              "      <th>1</th>\n",
              "      <td>2.080145</td>\n",
              "      <td>-0.841655</td>\n",
              "      <td>-0.773028</td>\n",
              "      <td>-0.543947</td>\n",
              "    </tr>\n",
              "    <tr>\n",
              "      <th>2</th>\n",
              "      <td>1.531877</td>\n",
              "      <td>-0.401157</td>\n",
              "      <td>0.921410</td>\n",
              "      <td>-0.092921</td>\n",
              "    </tr>\n",
              "    <tr>\n",
              "      <th>3</th>\n",
              "      <td>-0.909230</td>\n",
              "      <td>-0.657683</td>\n",
              "      <td>0.539942</td>\n",
              "      <td>0.633080</td>\n",
              "    </tr>\n",
              "    <tr>\n",
              "      <th>4</th>\n",
              "      <td>-1.611440</td>\n",
              "      <td>0.383540</td>\n",
              "      <td>2.719637</td>\n",
              "      <td>0.620029</td>\n",
              "    </tr>\n",
              "  </tbody>\n",
              "</table>\n",
              "</div>"
            ],
            "text/plain": [
              "          A         B         C         D\n",
              "0 -0.119415 -0.521634  0.822300 -0.331749\n",
              "1  2.080145 -0.841655 -0.773028 -0.543947\n",
              "2  1.531877 -0.401157  0.921410 -0.092921\n",
              "3 -0.909230 -0.657683  0.539942  0.633080\n",
              "4 -1.611440  0.383540  2.719637  0.620029"
            ]
          },
          "metadata": {
            "tags": []
          },
          "execution_count": 8
        }
      ]
    },
    {
      "cell_type": "code",
      "metadata": {
        "id": "cv8GhAom1zKA",
        "colab_type": "code",
        "colab": {}
      },
      "source": [
        "data_null = data_null.mask(np.random.random(data_null.shape)< .1)   # difference bn \"random.random\" and \"random.randn\" by this link --https://stackoverflow.com/questions/47231852/np-random-rand-vs-np-random-random"
      ],
      "execution_count": 0,
      "outputs": []
    },
    {
      "cell_type": "code",
      "metadata": {
        "id": "1hhxKQ1k3A9w",
        "colab_type": "code",
        "outputId": "18790c54-63ec-4458-f46a-432058773f7a",
        "colab": {
          "base_uri": "https://localhost:8080/",
          "height": 204
        }
      },
      "source": [
        "data_null.head()"
      ],
      "execution_count": 10,
      "outputs": [
        {
          "output_type": "execute_result",
          "data": {
            "text/html": [
              "<div>\n",
              "<style scoped>\n",
              "    .dataframe tbody tr th:only-of-type {\n",
              "        vertical-align: middle;\n",
              "    }\n",
              "\n",
              "    .dataframe tbody tr th {\n",
              "        vertical-align: top;\n",
              "    }\n",
              "\n",
              "    .dataframe thead th {\n",
              "        text-align: right;\n",
              "    }\n",
              "</style>\n",
              "<table border=\"1\" class=\"dataframe\">\n",
              "  <thead>\n",
              "    <tr style=\"text-align: right;\">\n",
              "      <th></th>\n",
              "      <th>A</th>\n",
              "      <th>B</th>\n",
              "      <th>C</th>\n",
              "      <th>D</th>\n",
              "    </tr>\n",
              "  </thead>\n",
              "  <tbody>\n",
              "    <tr>\n",
              "      <th>0</th>\n",
              "      <td>-0.119415</td>\n",
              "      <td>-0.521634</td>\n",
              "      <td>0.822300</td>\n",
              "      <td>NaN</td>\n",
              "    </tr>\n",
              "    <tr>\n",
              "      <th>1</th>\n",
              "      <td>NaN</td>\n",
              "      <td>-0.841655</td>\n",
              "      <td>-0.773028</td>\n",
              "      <td>NaN</td>\n",
              "    </tr>\n",
              "    <tr>\n",
              "      <th>2</th>\n",
              "      <td>1.531877</td>\n",
              "      <td>NaN</td>\n",
              "      <td>NaN</td>\n",
              "      <td>-0.092921</td>\n",
              "    </tr>\n",
              "    <tr>\n",
              "      <th>3</th>\n",
              "      <td>-0.909230</td>\n",
              "      <td>-0.657683</td>\n",
              "      <td>0.539942</td>\n",
              "      <td>0.633080</td>\n",
              "    </tr>\n",
              "    <tr>\n",
              "      <th>4</th>\n",
              "      <td>NaN</td>\n",
              "      <td>0.383540</td>\n",
              "      <td>2.719637</td>\n",
              "      <td>0.620029</td>\n",
              "    </tr>\n",
              "  </tbody>\n",
              "</table>\n",
              "</div>"
            ],
            "text/plain": [
              "          A         B         C         D\n",
              "0 -0.119415 -0.521634  0.822300       NaN\n",
              "1       NaN -0.841655 -0.773028       NaN\n",
              "2  1.531877       NaN       NaN -0.092921\n",
              "3 -0.909230 -0.657683  0.539942  0.633080\n",
              "4       NaN  0.383540  2.719637  0.620029"
            ]
          },
          "metadata": {
            "tags": []
          },
          "execution_count": 10
        }
      ]
    },
    {
      "cell_type": "code",
      "metadata": {
        "id": "xgdwrkGX4qx2",
        "colab_type": "code",
        "colab": {}
      },
      "source": [
        ""
      ],
      "execution_count": 0,
      "outputs": []
    },
    {
      "cell_type": "markdown",
      "metadata": {
        "id": "mfz_S5FpJP7d",
        "colab_type": "text"
      },
      "source": [
        "###iv).Data with some categorical features\n",
        "\n",
        "create a column with some categorical values"
      ]
    },
    {
      "cell_type": "code",
      "metadata": {
        "id": "cJppzkNrJjbK",
        "colab_type": "code",
        "colab": {}
      },
      "source": [
        "data_null['category'] = np.random.choice(a=['A', 'B', 'C', 'D'],size=1000,p=[0.4, 0.3, 0.2,0.1]  )  #adding a categorical feature ."
      ],
      "execution_count": 0,
      "outputs": []
    },
    {
      "cell_type": "code",
      "metadata": {
        "id": "KiSo21CCKOcT",
        "colab_type": "code",
        "colab": {
          "base_uri": "https://localhost:8080/",
          "height": 204
        },
        "outputId": "86abbd81-6293-4ad7-b676-0eb0d3b10356"
      },
      "source": [
        "data_null.head()"
      ],
      "execution_count": 12,
      "outputs": [
        {
          "output_type": "execute_result",
          "data": {
            "text/html": [
              "<div>\n",
              "<style scoped>\n",
              "    .dataframe tbody tr th:only-of-type {\n",
              "        vertical-align: middle;\n",
              "    }\n",
              "\n",
              "    .dataframe tbody tr th {\n",
              "        vertical-align: top;\n",
              "    }\n",
              "\n",
              "    .dataframe thead th {\n",
              "        text-align: right;\n",
              "    }\n",
              "</style>\n",
              "<table border=\"1\" class=\"dataframe\">\n",
              "  <thead>\n",
              "    <tr style=\"text-align: right;\">\n",
              "      <th></th>\n",
              "      <th>A</th>\n",
              "      <th>B</th>\n",
              "      <th>C</th>\n",
              "      <th>D</th>\n",
              "      <th>category</th>\n",
              "    </tr>\n",
              "  </thead>\n",
              "  <tbody>\n",
              "    <tr>\n",
              "      <th>0</th>\n",
              "      <td>-0.119415</td>\n",
              "      <td>-0.521634</td>\n",
              "      <td>0.822300</td>\n",
              "      <td>NaN</td>\n",
              "      <td>B</td>\n",
              "    </tr>\n",
              "    <tr>\n",
              "      <th>1</th>\n",
              "      <td>NaN</td>\n",
              "      <td>-0.841655</td>\n",
              "      <td>-0.773028</td>\n",
              "      <td>NaN</td>\n",
              "      <td>A</td>\n",
              "    </tr>\n",
              "    <tr>\n",
              "      <th>2</th>\n",
              "      <td>1.531877</td>\n",
              "      <td>NaN</td>\n",
              "      <td>NaN</td>\n",
              "      <td>-0.092921</td>\n",
              "      <td>D</td>\n",
              "    </tr>\n",
              "    <tr>\n",
              "      <th>3</th>\n",
              "      <td>-0.909230</td>\n",
              "      <td>-0.657683</td>\n",
              "      <td>0.539942</td>\n",
              "      <td>0.633080</td>\n",
              "      <td>C</td>\n",
              "    </tr>\n",
              "    <tr>\n",
              "      <th>4</th>\n",
              "      <td>NaN</td>\n",
              "      <td>0.383540</td>\n",
              "      <td>2.719637</td>\n",
              "      <td>0.620029</td>\n",
              "      <td>B</td>\n",
              "    </tr>\n",
              "  </tbody>\n",
              "</table>\n",
              "</div>"
            ],
            "text/plain": [
              "          A         B         C         D category\n",
              "0 -0.119415 -0.521634  0.822300       NaN        B\n",
              "1       NaN -0.841655 -0.773028       NaN        A\n",
              "2  1.531877       NaN       NaN -0.092921        D\n",
              "3 -0.909230 -0.657683  0.539942  0.633080        C\n",
              "4       NaN  0.383540  2.719637  0.620029        B"
            ]
          },
          "metadata": {
            "tags": []
          },
          "execution_count": 12
        }
      ]
    },
    {
      "cell_type": "code",
      "metadata": {
        "id": "XEcwYAGwKbG0",
        "colab_type": "code",
        "colab": {}
      },
      "source": [
        ""
      ],
      "execution_count": 0,
      "outputs": []
    }
  ]
}
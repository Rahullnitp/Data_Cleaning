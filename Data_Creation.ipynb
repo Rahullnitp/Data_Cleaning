{
  "nbformat": 4,
  "nbformat_minor": 0,
  "metadata": {
    "colab": {
      "name": "Data_Creation.ipynb",
      "provenance": [],
      "include_colab_link": true
    },
    "kernelspec": {
      "name": "python3",
      "display_name": "Python 3"
    }
  },
  "cells": [
    {
      "cell_type": "markdown",
      "metadata": {
        "id": "view-in-github",
        "colab_type": "text"
      },
      "source": [
        "<a href=\"https://colab.research.google.com/github/Rahullnitp/Data_Cleaning_And_Preprocessing/blob/master/Data_Creation.ipynb\" target=\"_parent\"><img src=\"https://colab.research.google.com/assets/colab-badge.svg\" alt=\"Open In Colab\"/></a>"
      ]
    },
    {
      "cell_type": "markdown",
      "metadata": {
        "id": "MaXrHl8yyE6a",
        "colab_type": "text"
      },
      "source": [
        "#Dataset creation"
      ]
    },
    {
      "cell_type": "code",
      "metadata": {
        "id": "6VR4YIu7yEPZ",
        "colab_type": "code",
        "colab": {}
      },
      "source": [
        "import os\n",
        "import pandas as pd\n",
        "import numpy as np\n",
        "import matplotlib.pyplot as plt\n",
        "import seaborn as sns\n",
        "%matplotlib inline\n"
      ],
      "execution_count": 0,
      "outputs": []
    },
    {
      "cell_type": "markdown",
      "metadata": {
        "id": "60jhdqjZbpzD",
        "colab_type": "text"
      },
      "source": [
        "##A).Creating Pandas Dataframe with Random values"
      ]
    },
    {
      "cell_type": "markdown",
      "metadata": {
        "id": "RPrADbrPy-3z",
        "colab_type": "text"
      },
      "source": [
        "####i).Data creation using \"random.randn\"\n",
        "\n",
        "       \n",
        "randn create a dataset with normal distribution with mean = 0 and variance = 1."
      ]
    },
    {
      "cell_type": "code",
      "metadata": {
        "id": "-Isj1SwCnzPg",
        "colab_type": "code",
        "colab": {}
      },
      "source": [
        "#dataset with 1000 rows and 4 columns\n",
        "data=pd.DataFrame(np.random.randn(1000,4),columns=list('ABCD'))"
      ],
      "execution_count": 0,
      "outputs": []
    },
    {
      "cell_type": "code",
      "metadata": {
        "id": "y32AKYqGzYZ6",
        "colab_type": "code",
        "outputId": "2bd58716-6a3f-4133-8af4-aba15e70ad28",
        "colab": {
          "base_uri": "https://localhost:8080/",
          "height": 204
        }
      },
      "source": [
        "data.head()"
      ],
      "execution_count": 35,
      "outputs": [
        {
          "output_type": "execute_result",
          "data": {
            "text/html": [
              "<div>\n",
              "<style scoped>\n",
              "    .dataframe tbody tr th:only-of-type {\n",
              "        vertical-align: middle;\n",
              "    }\n",
              "\n",
              "    .dataframe tbody tr th {\n",
              "        vertical-align: top;\n",
              "    }\n",
              "\n",
              "    .dataframe thead th {\n",
              "        text-align: right;\n",
              "    }\n",
              "</style>\n",
              "<table border=\"1\" class=\"dataframe\">\n",
              "  <thead>\n",
              "    <tr style=\"text-align: right;\">\n",
              "      <th></th>\n",
              "      <th>A</th>\n",
              "      <th>B</th>\n",
              "      <th>C</th>\n",
              "      <th>D</th>\n",
              "    </tr>\n",
              "  </thead>\n",
              "  <tbody>\n",
              "    <tr>\n",
              "      <th>0</th>\n",
              "      <td>-0.408168</td>\n",
              "      <td>-0.131834</td>\n",
              "      <td>2.352565</td>\n",
              "      <td>-0.330793</td>\n",
              "    </tr>\n",
              "    <tr>\n",
              "      <th>1</th>\n",
              "      <td>-1.187770</td>\n",
              "      <td>0.052494</td>\n",
              "      <td>-0.531552</td>\n",
              "      <td>-0.383105</td>\n",
              "    </tr>\n",
              "    <tr>\n",
              "      <th>2</th>\n",
              "      <td>-0.797046</td>\n",
              "      <td>0.524647</td>\n",
              "      <td>-1.871773</td>\n",
              "      <td>-0.434058</td>\n",
              "    </tr>\n",
              "    <tr>\n",
              "      <th>3</th>\n",
              "      <td>0.508564</td>\n",
              "      <td>-1.207465</td>\n",
              "      <td>-1.392484</td>\n",
              "      <td>-1.145060</td>\n",
              "    </tr>\n",
              "    <tr>\n",
              "      <th>4</th>\n",
              "      <td>-0.293038</td>\n",
              "      <td>1.889040</td>\n",
              "      <td>-0.002710</td>\n",
              "      <td>0.342555</td>\n",
              "    </tr>\n",
              "  </tbody>\n",
              "</table>\n",
              "</div>"
            ],
            "text/plain": [
              "          A         B         C         D\n",
              "0 -0.408168 -0.131834  2.352565 -0.330793\n",
              "1 -1.187770  0.052494 -0.531552 -0.383105\n",
              "2 -0.797046  0.524647 -1.871773 -0.434058\n",
              "3  0.508564 -1.207465 -1.392484 -1.145060\n",
              "4 -0.293038  1.889040 -0.002710  0.342555"
            ]
          },
          "metadata": {
            "tags": []
          },
          "execution_count": 35
        }
      ]
    },
    {
      "cell_type": "code",
      "metadata": {
        "id": "5nL7dwwe0BCT",
        "colab_type": "code",
        "colab": {}
      },
      "source": [
        ""
      ],
      "execution_count": 0,
      "outputs": []
    },
    {
      "cell_type": "markdown",
      "metadata": {
        "id": "2hx1mcwx07Of",
        "colab_type": "text"
      },
      "source": [
        "###ii).Data Creation using \"random.randint\"\n",
        "\n",
        "Return random integers from the “discrete uniform” distribution of the specified dtype in the “half-open” interval [low, high). If high is None (the default), then results are from [0, low)."
      ]
    },
    {
      "cell_type": "code",
      "metadata": {
        "id": "2_-3ZXLv1F4g",
        "colab_type": "code",
        "colab": {}
      },
      "source": [
        "data1=pd.DataFrame(np.random.randint(0,100,size=(1000,4)),columns=list('ABCD'))"
      ],
      "execution_count": 0,
      "outputs": []
    },
    {
      "cell_type": "code",
      "metadata": {
        "id": "DMWtnHyo1uzm",
        "colab_type": "code",
        "outputId": "4e20b696-ba9d-4e88-edb8-e91737d9c0fc",
        "colab": {
          "base_uri": "https://localhost:8080/",
          "height": 204
        }
      },
      "source": [
        "data1.head()"
      ],
      "execution_count": 37,
      "outputs": [
        {
          "output_type": "execute_result",
          "data": {
            "text/html": [
              "<div>\n",
              "<style scoped>\n",
              "    .dataframe tbody tr th:only-of-type {\n",
              "        vertical-align: middle;\n",
              "    }\n",
              "\n",
              "    .dataframe tbody tr th {\n",
              "        vertical-align: top;\n",
              "    }\n",
              "\n",
              "    .dataframe thead th {\n",
              "        text-align: right;\n",
              "    }\n",
              "</style>\n",
              "<table border=\"1\" class=\"dataframe\">\n",
              "  <thead>\n",
              "    <tr style=\"text-align: right;\">\n",
              "      <th></th>\n",
              "      <th>A</th>\n",
              "      <th>B</th>\n",
              "      <th>C</th>\n",
              "      <th>D</th>\n",
              "    </tr>\n",
              "  </thead>\n",
              "  <tbody>\n",
              "    <tr>\n",
              "      <th>0</th>\n",
              "      <td>72</td>\n",
              "      <td>92</td>\n",
              "      <td>68</td>\n",
              "      <td>91</td>\n",
              "    </tr>\n",
              "    <tr>\n",
              "      <th>1</th>\n",
              "      <td>8</td>\n",
              "      <td>37</td>\n",
              "      <td>70</td>\n",
              "      <td>62</td>\n",
              "    </tr>\n",
              "    <tr>\n",
              "      <th>2</th>\n",
              "      <td>9</td>\n",
              "      <td>73</td>\n",
              "      <td>5</td>\n",
              "      <td>4</td>\n",
              "    </tr>\n",
              "    <tr>\n",
              "      <th>3</th>\n",
              "      <td>8</td>\n",
              "      <td>37</td>\n",
              "      <td>67</td>\n",
              "      <td>25</td>\n",
              "    </tr>\n",
              "    <tr>\n",
              "      <th>4</th>\n",
              "      <td>96</td>\n",
              "      <td>9</td>\n",
              "      <td>42</td>\n",
              "      <td>76</td>\n",
              "    </tr>\n",
              "  </tbody>\n",
              "</table>\n",
              "</div>"
            ],
            "text/plain": [
              "    A   B   C   D\n",
              "0  72  92  68  91\n",
              "1   8  37  70  62\n",
              "2   9  73   5   4\n",
              "3   8  37  67  25\n",
              "4  96   9  42  76"
            ]
          },
          "metadata": {
            "tags": []
          },
          "execution_count": 37
        }
      ]
    },
    {
      "cell_type": "code",
      "metadata": {
        "id": "8QxhtH9-1xH4",
        "colab_type": "code",
        "colab": {}
      },
      "source": [
        ""
      ],
      "execution_count": 0,
      "outputs": []
    },
    {
      "cell_type": "markdown",
      "metadata": {
        "id": "YypnNZok1zi3",
        "colab_type": "text"
      },
      "source": [
        "###iii).Data creation with some null values in it.\n",
        "\n",
        "create a dataframe with approximately 10% null values."
      ]
    },
    {
      "cell_type": "code",
      "metadata": {
        "id": "D_XWJo6c2hpg",
        "colab_type": "code",
        "colab": {}
      },
      "source": [
        "data_null=pd.DataFrame(np.random.randn(1000,4),columns=list('ABCD'))"
      ],
      "execution_count": 0,
      "outputs": []
    },
    {
      "cell_type": "code",
      "metadata": {
        "id": "Sohyp7dl2qMd",
        "colab_type": "code",
        "outputId": "16813b68-0124-418b-9640-380bf87ecd49",
        "colab": {
          "base_uri": "https://localhost:8080/",
          "height": 204
        }
      },
      "source": [
        "data_null.head()"
      ],
      "execution_count": 39,
      "outputs": [
        {
          "output_type": "execute_result",
          "data": {
            "text/html": [
              "<div>\n",
              "<style scoped>\n",
              "    .dataframe tbody tr th:only-of-type {\n",
              "        vertical-align: middle;\n",
              "    }\n",
              "\n",
              "    .dataframe tbody tr th {\n",
              "        vertical-align: top;\n",
              "    }\n",
              "\n",
              "    .dataframe thead th {\n",
              "        text-align: right;\n",
              "    }\n",
              "</style>\n",
              "<table border=\"1\" class=\"dataframe\">\n",
              "  <thead>\n",
              "    <tr style=\"text-align: right;\">\n",
              "      <th></th>\n",
              "      <th>A</th>\n",
              "      <th>B</th>\n",
              "      <th>C</th>\n",
              "      <th>D</th>\n",
              "    </tr>\n",
              "  </thead>\n",
              "  <tbody>\n",
              "    <tr>\n",
              "      <th>0</th>\n",
              "      <td>0.481733</td>\n",
              "      <td>2.383084</td>\n",
              "      <td>3.048952</td>\n",
              "      <td>-0.697811</td>\n",
              "    </tr>\n",
              "    <tr>\n",
              "      <th>1</th>\n",
              "      <td>-0.241648</td>\n",
              "      <td>-1.060172</td>\n",
              "      <td>0.386040</td>\n",
              "      <td>1.335223</td>\n",
              "    </tr>\n",
              "    <tr>\n",
              "      <th>2</th>\n",
              "      <td>-1.008727</td>\n",
              "      <td>-1.992962</td>\n",
              "      <td>1.612532</td>\n",
              "      <td>0.228753</td>\n",
              "    </tr>\n",
              "    <tr>\n",
              "      <th>3</th>\n",
              "      <td>-1.496945</td>\n",
              "      <td>-0.653131</td>\n",
              "      <td>0.708225</td>\n",
              "      <td>0.695917</td>\n",
              "    </tr>\n",
              "    <tr>\n",
              "      <th>4</th>\n",
              "      <td>0.696000</td>\n",
              "      <td>0.377915</td>\n",
              "      <td>1.988238</td>\n",
              "      <td>-0.476976</td>\n",
              "    </tr>\n",
              "  </tbody>\n",
              "</table>\n",
              "</div>"
            ],
            "text/plain": [
              "          A         B         C         D\n",
              "0  0.481733  2.383084  3.048952 -0.697811\n",
              "1 -0.241648 -1.060172  0.386040  1.335223\n",
              "2 -1.008727 -1.992962  1.612532  0.228753\n",
              "3 -1.496945 -0.653131  0.708225  0.695917\n",
              "4  0.696000  0.377915  1.988238 -0.476976"
            ]
          },
          "metadata": {
            "tags": []
          },
          "execution_count": 39
        }
      ]
    },
    {
      "cell_type": "code",
      "metadata": {
        "id": "cv8GhAom1zKA",
        "colab_type": "code",
        "colab": {}
      },
      "source": [
        "data_null = data_null.mask(np.random.random(data_null.shape)< .1)   # difference bn \"random.random\" and \"random.randn\" by this link --https://stackoverflow.com/questions/47231852/np-random-rand-vs-np-random-random"
      ],
      "execution_count": 0,
      "outputs": []
    },
    {
      "cell_type": "code",
      "metadata": {
        "id": "1hhxKQ1k3A9w",
        "colab_type": "code",
        "outputId": "c1ac36dd-7bf9-4e75-e8ed-1bfd940a623c",
        "colab": {
          "base_uri": "https://localhost:8080/",
          "height": 204
        }
      },
      "source": [
        "data_null.head()"
      ],
      "execution_count": 41,
      "outputs": [
        {
          "output_type": "execute_result",
          "data": {
            "text/html": [
              "<div>\n",
              "<style scoped>\n",
              "    .dataframe tbody tr th:only-of-type {\n",
              "        vertical-align: middle;\n",
              "    }\n",
              "\n",
              "    .dataframe tbody tr th {\n",
              "        vertical-align: top;\n",
              "    }\n",
              "\n",
              "    .dataframe thead th {\n",
              "        text-align: right;\n",
              "    }\n",
              "</style>\n",
              "<table border=\"1\" class=\"dataframe\">\n",
              "  <thead>\n",
              "    <tr style=\"text-align: right;\">\n",
              "      <th></th>\n",
              "      <th>A</th>\n",
              "      <th>B</th>\n",
              "      <th>C</th>\n",
              "      <th>D</th>\n",
              "    </tr>\n",
              "  </thead>\n",
              "  <tbody>\n",
              "    <tr>\n",
              "      <th>0</th>\n",
              "      <td>0.481733</td>\n",
              "      <td>2.383084</td>\n",
              "      <td>3.048952</td>\n",
              "      <td>-0.697811</td>\n",
              "    </tr>\n",
              "    <tr>\n",
              "      <th>1</th>\n",
              "      <td>-0.241648</td>\n",
              "      <td>NaN</td>\n",
              "      <td>0.386040</td>\n",
              "      <td>1.335223</td>\n",
              "    </tr>\n",
              "    <tr>\n",
              "      <th>2</th>\n",
              "      <td>-1.008727</td>\n",
              "      <td>-1.992962</td>\n",
              "      <td>1.612532</td>\n",
              "      <td>0.228753</td>\n",
              "    </tr>\n",
              "    <tr>\n",
              "      <th>3</th>\n",
              "      <td>-1.496945</td>\n",
              "      <td>NaN</td>\n",
              "      <td>0.708225</td>\n",
              "      <td>0.695917</td>\n",
              "    </tr>\n",
              "    <tr>\n",
              "      <th>4</th>\n",
              "      <td>0.696000</td>\n",
              "      <td>0.377915</td>\n",
              "      <td>1.988238</td>\n",
              "      <td>-0.476976</td>\n",
              "    </tr>\n",
              "  </tbody>\n",
              "</table>\n",
              "</div>"
            ],
            "text/plain": [
              "          A         B         C         D\n",
              "0  0.481733  2.383084  3.048952 -0.697811\n",
              "1 -0.241648       NaN  0.386040  1.335223\n",
              "2 -1.008727 -1.992962  1.612532  0.228753\n",
              "3 -1.496945       NaN  0.708225  0.695917\n",
              "4  0.696000  0.377915  1.988238 -0.476976"
            ]
          },
          "metadata": {
            "tags": []
          },
          "execution_count": 41
        }
      ]
    },
    {
      "cell_type": "code",
      "metadata": {
        "id": "xgdwrkGX4qx2",
        "colab_type": "code",
        "colab": {}
      },
      "source": [
        ""
      ],
      "execution_count": 0,
      "outputs": []
    },
    {
      "cell_type": "markdown",
      "metadata": {
        "id": "mfz_S5FpJP7d",
        "colab_type": "text"
      },
      "source": [
        "###iv).Data with some categorical features\n",
        "\n",
        "create a column with some categorical values"
      ]
    },
    {
      "cell_type": "code",
      "metadata": {
        "id": "cJppzkNrJjbK",
        "colab_type": "code",
        "colab": {}
      },
      "source": [
        "data_null['category'] = np.random.choice(a=['A', 'B', 'C', 'D'],size=1000,p=[0.4, 0.3, 0.2,0.1]  )  #adding a categorical feature ."
      ],
      "execution_count": 0,
      "outputs": []
    },
    {
      "cell_type": "code",
      "metadata": {
        "id": "KiSo21CCKOcT",
        "colab_type": "code",
        "outputId": "e92fc5c2-7856-4a78-8ea4-14f7d99261c8",
        "colab": {
          "base_uri": "https://localhost:8080/",
          "height": 204
        }
      },
      "source": [
        "data_null.head()"
      ],
      "execution_count": 43,
      "outputs": [
        {
          "output_type": "execute_result",
          "data": {
            "text/html": [
              "<div>\n",
              "<style scoped>\n",
              "    .dataframe tbody tr th:only-of-type {\n",
              "        vertical-align: middle;\n",
              "    }\n",
              "\n",
              "    .dataframe tbody tr th {\n",
              "        vertical-align: top;\n",
              "    }\n",
              "\n",
              "    .dataframe thead th {\n",
              "        text-align: right;\n",
              "    }\n",
              "</style>\n",
              "<table border=\"1\" class=\"dataframe\">\n",
              "  <thead>\n",
              "    <tr style=\"text-align: right;\">\n",
              "      <th></th>\n",
              "      <th>A</th>\n",
              "      <th>B</th>\n",
              "      <th>C</th>\n",
              "      <th>D</th>\n",
              "      <th>category</th>\n",
              "    </tr>\n",
              "  </thead>\n",
              "  <tbody>\n",
              "    <tr>\n",
              "      <th>0</th>\n",
              "      <td>0.481733</td>\n",
              "      <td>2.383084</td>\n",
              "      <td>3.048952</td>\n",
              "      <td>-0.697811</td>\n",
              "      <td>A</td>\n",
              "    </tr>\n",
              "    <tr>\n",
              "      <th>1</th>\n",
              "      <td>-0.241648</td>\n",
              "      <td>NaN</td>\n",
              "      <td>0.386040</td>\n",
              "      <td>1.335223</td>\n",
              "      <td>A</td>\n",
              "    </tr>\n",
              "    <tr>\n",
              "      <th>2</th>\n",
              "      <td>-1.008727</td>\n",
              "      <td>-1.992962</td>\n",
              "      <td>1.612532</td>\n",
              "      <td>0.228753</td>\n",
              "      <td>A</td>\n",
              "    </tr>\n",
              "    <tr>\n",
              "      <th>3</th>\n",
              "      <td>-1.496945</td>\n",
              "      <td>NaN</td>\n",
              "      <td>0.708225</td>\n",
              "      <td>0.695917</td>\n",
              "      <td>A</td>\n",
              "    </tr>\n",
              "    <tr>\n",
              "      <th>4</th>\n",
              "      <td>0.696000</td>\n",
              "      <td>0.377915</td>\n",
              "      <td>1.988238</td>\n",
              "      <td>-0.476976</td>\n",
              "      <td>A</td>\n",
              "    </tr>\n",
              "  </tbody>\n",
              "</table>\n",
              "</div>"
            ],
            "text/plain": [
              "          A         B         C         D category\n",
              "0  0.481733  2.383084  3.048952 -0.697811        A\n",
              "1 -0.241648       NaN  0.386040  1.335223        A\n",
              "2 -1.008727 -1.992962  1.612532  0.228753        A\n",
              "3 -1.496945       NaN  0.708225  0.695917        A\n",
              "4  0.696000  0.377915  1.988238 -0.476976        A"
            ]
          },
          "metadata": {
            "tags": []
          },
          "execution_count": 43
        }
      ]
    },
    {
      "cell_type": "code",
      "metadata": {
        "id": "XEcwYAGwKbG0",
        "colab_type": "code",
        "colab": {}
      },
      "source": [
        ""
      ],
      "execution_count": 0,
      "outputs": []
    },
    {
      "cell_type": "markdown",
      "metadata": {
        "id": "7EspPkYib2Lk",
        "colab_type": "text"
      },
      "source": [
        "##B).Creating Pandas Dataframe with defined values"
      ]
    },
    {
      "cell_type": "markdown",
      "metadata": {
        "id": "Xcqf2gHlb9nX",
        "colab_type": "text"
      },
      "source": [
        "####i). Creating  DataFrame from lists of lists."
      ]
    },
    {
      "cell_type": "code",
      "metadata": {
        "id": "-S-L4hkYb8Sg",
        "colab_type": "code",
        "colab": {
          "base_uri": "https://localhost:8080/",
          "height": 173
        },
        "outputId": "c580a97b-101e-4c74-f44b-ccdcb8cf942f"
      },
      "source": [
        "df=[['a',5],['b',6],['c',7],['d',8]]\n",
        "df=pd.DataFrame(df,columns=['Name','values'])\n",
        "df"
      ],
      "execution_count": 44,
      "outputs": [
        {
          "output_type": "execute_result",
          "data": {
            "text/html": [
              "<div>\n",
              "<style scoped>\n",
              "    .dataframe tbody tr th:only-of-type {\n",
              "        vertical-align: middle;\n",
              "    }\n",
              "\n",
              "    .dataframe tbody tr th {\n",
              "        vertical-align: top;\n",
              "    }\n",
              "\n",
              "    .dataframe thead th {\n",
              "        text-align: right;\n",
              "    }\n",
              "</style>\n",
              "<table border=\"1\" class=\"dataframe\">\n",
              "  <thead>\n",
              "    <tr style=\"text-align: right;\">\n",
              "      <th></th>\n",
              "      <th>Name</th>\n",
              "      <th>values</th>\n",
              "    </tr>\n",
              "  </thead>\n",
              "  <tbody>\n",
              "    <tr>\n",
              "      <th>0</th>\n",
              "      <td>a</td>\n",
              "      <td>5</td>\n",
              "    </tr>\n",
              "    <tr>\n",
              "      <th>1</th>\n",
              "      <td>b</td>\n",
              "      <td>6</td>\n",
              "    </tr>\n",
              "    <tr>\n",
              "      <th>2</th>\n",
              "      <td>c</td>\n",
              "      <td>7</td>\n",
              "    </tr>\n",
              "    <tr>\n",
              "      <th>3</th>\n",
              "      <td>d</td>\n",
              "      <td>8</td>\n",
              "    </tr>\n",
              "  </tbody>\n",
              "</table>\n",
              "</div>"
            ],
            "text/plain": [
              "  Name  values\n",
              "0    a       5\n",
              "1    b       6\n",
              "2    c       7\n",
              "3    d       8"
            ]
          },
          "metadata": {
            "tags": []
          },
          "execution_count": 44
        }
      ]
    },
    {
      "cell_type": "code",
      "metadata": {
        "id": "mcFw6XEYdC5y",
        "colab_type": "code",
        "colab": {}
      },
      "source": [
        ""
      ],
      "execution_count": 0,
      "outputs": []
    },
    {
      "cell_type": "markdown",
      "metadata": {
        "id": "tUOhhq8qd_XL",
        "colab_type": "text"
      },
      "source": [
        "####ii).Creating Dataframe from dict of list"
      ]
    },
    {
      "cell_type": "code",
      "metadata": {
        "id": "ZvTJdzv5eIED",
        "colab_type": "code",
        "colab": {
          "base_uri": "https://localhost:8080/",
          "height": 235
        },
        "outputId": "41993ee4-6dca-45cf-dda2-a0280d0fb2a6"
      },
      "source": [
        "data = {'Name':['m', 'k', 'kr', 'j','f','h'], 'Age':[2,3,4,5,6,7]}\n",
        "data=pd.DataFrame(data)\n",
        "data"
      ],
      "execution_count": 45,
      "outputs": [
        {
          "output_type": "execute_result",
          "data": {
            "text/html": [
              "<div>\n",
              "<style scoped>\n",
              "    .dataframe tbody tr th:only-of-type {\n",
              "        vertical-align: middle;\n",
              "    }\n",
              "\n",
              "    .dataframe tbody tr th {\n",
              "        vertical-align: top;\n",
              "    }\n",
              "\n",
              "    .dataframe thead th {\n",
              "        text-align: right;\n",
              "    }\n",
              "</style>\n",
              "<table border=\"1\" class=\"dataframe\">\n",
              "  <thead>\n",
              "    <tr style=\"text-align: right;\">\n",
              "      <th></th>\n",
              "      <th>Name</th>\n",
              "      <th>Age</th>\n",
              "    </tr>\n",
              "  </thead>\n",
              "  <tbody>\n",
              "    <tr>\n",
              "      <th>0</th>\n",
              "      <td>m</td>\n",
              "      <td>2</td>\n",
              "    </tr>\n",
              "    <tr>\n",
              "      <th>1</th>\n",
              "      <td>k</td>\n",
              "      <td>3</td>\n",
              "    </tr>\n",
              "    <tr>\n",
              "      <th>2</th>\n",
              "      <td>kr</td>\n",
              "      <td>4</td>\n",
              "    </tr>\n",
              "    <tr>\n",
              "      <th>3</th>\n",
              "      <td>j</td>\n",
              "      <td>5</td>\n",
              "    </tr>\n",
              "    <tr>\n",
              "      <th>4</th>\n",
              "      <td>f</td>\n",
              "      <td>6</td>\n",
              "    </tr>\n",
              "    <tr>\n",
              "      <th>5</th>\n",
              "      <td>h</td>\n",
              "      <td>7</td>\n",
              "    </tr>\n",
              "  </tbody>\n",
              "</table>\n",
              "</div>"
            ],
            "text/plain": [
              "  Name  Age\n",
              "0    m    2\n",
              "1    k    3\n",
              "2   kr    4\n",
              "3    j    5\n",
              "4    f    6\n",
              "5    h    7"
            ]
          },
          "metadata": {
            "tags": []
          },
          "execution_count": 45
        }
      ]
    },
    {
      "cell_type": "code",
      "metadata": {
        "id": "-IuxvEdReWRL",
        "colab_type": "code",
        "colab": {}
      },
      "source": [
        ""
      ],
      "execution_count": 0,
      "outputs": []
    },
    {
      "cell_type": "markdown",
      "metadata": {
        "id": "fypNjkKSeXhV",
        "colab_type": "text"
      },
      "source": [
        "####iii).Creating a indexed Dataframe using arrays."
      ]
    },
    {
      "cell_type": "code",
      "metadata": {
        "id": "XblYuDBgez9p",
        "colab_type": "code",
        "colab": {
          "base_uri": "https://localhost:8080/",
          "height": 235
        },
        "outputId": "b097e761-5d0b-4698-fa37-3ee5b72f1933"
      },
      "source": [
        "ata = {'Name':['m', 'k', 'kr', 'j','f','h'], 'Age':[2,3,4,5,6,7]}\n",
        "data=pd.DataFrame(data,index=['a','b','c','d','e','f'])\n",
        "data"
      ],
      "execution_count": 46,
      "outputs": [
        {
          "output_type": "execute_result",
          "data": {
            "text/html": [
              "<div>\n",
              "<style scoped>\n",
              "    .dataframe tbody tr th:only-of-type {\n",
              "        vertical-align: middle;\n",
              "    }\n",
              "\n",
              "    .dataframe tbody tr th {\n",
              "        vertical-align: top;\n",
              "    }\n",
              "\n",
              "    .dataframe thead th {\n",
              "        text-align: right;\n",
              "    }\n",
              "</style>\n",
              "<table border=\"1\" class=\"dataframe\">\n",
              "  <thead>\n",
              "    <tr style=\"text-align: right;\">\n",
              "      <th></th>\n",
              "      <th>Name</th>\n",
              "      <th>Age</th>\n",
              "    </tr>\n",
              "  </thead>\n",
              "  <tbody>\n",
              "    <tr>\n",
              "      <th>a</th>\n",
              "      <td>NaN</td>\n",
              "      <td>NaN</td>\n",
              "    </tr>\n",
              "    <tr>\n",
              "      <th>b</th>\n",
              "      <td>NaN</td>\n",
              "      <td>NaN</td>\n",
              "    </tr>\n",
              "    <tr>\n",
              "      <th>c</th>\n",
              "      <td>NaN</td>\n",
              "      <td>NaN</td>\n",
              "    </tr>\n",
              "    <tr>\n",
              "      <th>d</th>\n",
              "      <td>NaN</td>\n",
              "      <td>NaN</td>\n",
              "    </tr>\n",
              "    <tr>\n",
              "      <th>e</th>\n",
              "      <td>NaN</td>\n",
              "      <td>NaN</td>\n",
              "    </tr>\n",
              "    <tr>\n",
              "      <th>f</th>\n",
              "      <td>NaN</td>\n",
              "      <td>NaN</td>\n",
              "    </tr>\n",
              "  </tbody>\n",
              "</table>\n",
              "</div>"
            ],
            "text/plain": [
              "  Name  Age\n",
              "a  NaN  NaN\n",
              "b  NaN  NaN\n",
              "c  NaN  NaN\n",
              "d  NaN  NaN\n",
              "e  NaN  NaN\n",
              "f  NaN  NaN"
            ]
          },
          "metadata": {
            "tags": []
          },
          "execution_count": 46
        }
      ]
    },
    {
      "cell_type": "code",
      "metadata": {
        "id": "1Xw2csfzfBxc",
        "colab_type": "code",
        "colab": {}
      },
      "source": [
        ""
      ],
      "execution_count": 0,
      "outputs": []
    },
    {
      "cell_type": "markdown",
      "metadata": {
        "id": "zj-4eyILfDei",
        "colab_type": "text"
      },
      "source": [
        "####iv).Creating DataFrame from list of dictionary"
      ]
    },
    {
      "cell_type": "code",
      "metadata": {
        "id": "lUkGrDzifUdO",
        "colab_type": "code",
        "colab": {
          "base_uri": "https://localhost:8080/",
          "height": 111
        },
        "outputId": "173659b4-8057-4bdb-bee8-1421eb450743"
      },
      "source": [
        "data = [{'a': 1, 'b': 2}, {'a':0, 'b': 2, 'c': 3}] \n",
        "data=pd.DataFrame(data,index=['one','two'])\n",
        "data"
      ],
      "execution_count": 47,
      "outputs": [
        {
          "output_type": "execute_result",
          "data": {
            "text/html": [
              "<div>\n",
              "<style scoped>\n",
              "    .dataframe tbody tr th:only-of-type {\n",
              "        vertical-align: middle;\n",
              "    }\n",
              "\n",
              "    .dataframe tbody tr th {\n",
              "        vertical-align: top;\n",
              "    }\n",
              "\n",
              "    .dataframe thead th {\n",
              "        text-align: right;\n",
              "    }\n",
              "</style>\n",
              "<table border=\"1\" class=\"dataframe\">\n",
              "  <thead>\n",
              "    <tr style=\"text-align: right;\">\n",
              "      <th></th>\n",
              "      <th>a</th>\n",
              "      <th>b</th>\n",
              "      <th>c</th>\n",
              "    </tr>\n",
              "  </thead>\n",
              "  <tbody>\n",
              "    <tr>\n",
              "      <th>one</th>\n",
              "      <td>1</td>\n",
              "      <td>2</td>\n",
              "      <td>NaN</td>\n",
              "    </tr>\n",
              "    <tr>\n",
              "      <th>two</th>\n",
              "      <td>0</td>\n",
              "      <td>2</td>\n",
              "      <td>3.0</td>\n",
              "    </tr>\n",
              "  </tbody>\n",
              "</table>\n",
              "</div>"
            ],
            "text/plain": [
              "     a  b    c\n",
              "one  1  2  NaN\n",
              "two  0  2  3.0"
            ]
          },
          "metadata": {
            "tags": []
          },
          "execution_count": 47
        }
      ]
    },
    {
      "cell_type": "code",
      "metadata": {
        "id": "UgLn85rCfqd8",
        "colab_type": "code",
        "colab": {}
      },
      "source": [
        ""
      ],
      "execution_count": 0,
      "outputs": []
    },
    {
      "cell_type": "markdown",
      "metadata": {
        "id": "POjoZ3AggFiF",
        "colab_type": "text"
      },
      "source": [
        "####v).Creating pandas Dataframe using zip() function"
      ]
    },
    {
      "cell_type": "code",
      "metadata": {
        "id": "eftdHiKkgPjE",
        "colab_type": "code",
        "colab": {
          "base_uri": "https://localhost:8080/",
          "height": 34
        },
        "outputId": "77caa9d5-88d8-4b30-9a69-1bb539bef192"
      },
      "source": [
        "Name = ['om', 'kr', 'nk', 'li']\n",
        "Value=[3,5,6,7]\n",
        "dat=list(zip(Name,Value))\n",
        "dat                       #list of tuples"
      ],
      "execution_count": 48,
      "outputs": [
        {
          "output_type": "execute_result",
          "data": {
            "text/plain": [
              "[('om', 3), ('kr', 5), ('nk', 6), ('li', 7)]"
            ]
          },
          "metadata": {
            "tags": []
          },
          "execution_count": 48
        }
      ]
    },
    {
      "cell_type": "code",
      "metadata": {
        "id": "gbjdTm0Jg-zB",
        "colab_type": "code",
        "colab": {
          "base_uri": "https://localhost:8080/",
          "height": 173
        },
        "outputId": "fbd2d283-5f35-4bda-e326-d95d84d2aef6"
      },
      "source": [
        "data=pd.DataFrame(dat,columns=['Name','Value'])\n",
        "data\n"
      ],
      "execution_count": 49,
      "outputs": [
        {
          "output_type": "execute_result",
          "data": {
            "text/html": [
              "<div>\n",
              "<style scoped>\n",
              "    .dataframe tbody tr th:only-of-type {\n",
              "        vertical-align: middle;\n",
              "    }\n",
              "\n",
              "    .dataframe tbody tr th {\n",
              "        vertical-align: top;\n",
              "    }\n",
              "\n",
              "    .dataframe thead th {\n",
              "        text-align: right;\n",
              "    }\n",
              "</style>\n",
              "<table border=\"1\" class=\"dataframe\">\n",
              "  <thead>\n",
              "    <tr style=\"text-align: right;\">\n",
              "      <th></th>\n",
              "      <th>Name</th>\n",
              "      <th>Value</th>\n",
              "    </tr>\n",
              "  </thead>\n",
              "  <tbody>\n",
              "    <tr>\n",
              "      <th>0</th>\n",
              "      <td>om</td>\n",
              "      <td>3</td>\n",
              "    </tr>\n",
              "    <tr>\n",
              "      <th>1</th>\n",
              "      <td>kr</td>\n",
              "      <td>5</td>\n",
              "    </tr>\n",
              "    <tr>\n",
              "      <th>2</th>\n",
              "      <td>nk</td>\n",
              "      <td>6</td>\n",
              "    </tr>\n",
              "    <tr>\n",
              "      <th>3</th>\n",
              "      <td>li</td>\n",
              "      <td>7</td>\n",
              "    </tr>\n",
              "  </tbody>\n",
              "</table>\n",
              "</div>"
            ],
            "text/plain": [
              "  Name  Value\n",
              "0   om      3\n",
              "1   kr      5\n",
              "2   nk      6\n",
              "3   li      7"
            ]
          },
          "metadata": {
            "tags": []
          },
          "execution_count": 49
        }
      ]
    },
    {
      "cell_type": "code",
      "metadata": {
        "id": "MgCGJNXBhI0X",
        "colab_type": "code",
        "colab": {}
      },
      "source": [
        ""
      ],
      "execution_count": 0,
      "outputs": []
    },
    {
      "cell_type": "markdown",
      "metadata": {
        "id": "MtAWqgU0hg_L",
        "colab_type": "text"
      },
      "source": [
        "####vi).Creating DataFrame from Dicts of series."
      ]
    },
    {
      "cell_type": "code",
      "metadata": {
        "id": "JhGrlmILhsk8",
        "colab_type": "code",
        "colab": {
          "base_uri": "https://localhost:8080/",
          "height": 204
        },
        "outputId": "b7ed2f9b-d3b4-48b9-81cd-29035d5bc091"
      },
      "source": [
        "d = {'one' : pd.Series([10, 20, 30, 40], index =['a', 'b', 'c', 'd']), \n",
        "      'two' : pd.Series([10, 20, 30, 40], index =['a', 'b', 'c','e'])} \n",
        "df = pd.DataFrame(d)  \n",
        "df "
      ],
      "execution_count": 50,
      "outputs": [
        {
          "output_type": "execute_result",
          "data": {
            "text/html": [
              "<div>\n",
              "<style scoped>\n",
              "    .dataframe tbody tr th:only-of-type {\n",
              "        vertical-align: middle;\n",
              "    }\n",
              "\n",
              "    .dataframe tbody tr th {\n",
              "        vertical-align: top;\n",
              "    }\n",
              "\n",
              "    .dataframe thead th {\n",
              "        text-align: right;\n",
              "    }\n",
              "</style>\n",
              "<table border=\"1\" class=\"dataframe\">\n",
              "  <thead>\n",
              "    <tr style=\"text-align: right;\">\n",
              "      <th></th>\n",
              "      <th>one</th>\n",
              "      <th>two</th>\n",
              "    </tr>\n",
              "  </thead>\n",
              "  <tbody>\n",
              "    <tr>\n",
              "      <th>a</th>\n",
              "      <td>10.0</td>\n",
              "      <td>10.0</td>\n",
              "    </tr>\n",
              "    <tr>\n",
              "      <th>b</th>\n",
              "      <td>20.0</td>\n",
              "      <td>20.0</td>\n",
              "    </tr>\n",
              "    <tr>\n",
              "      <th>c</th>\n",
              "      <td>30.0</td>\n",
              "      <td>30.0</td>\n",
              "    </tr>\n",
              "    <tr>\n",
              "      <th>d</th>\n",
              "      <td>40.0</td>\n",
              "      <td>NaN</td>\n",
              "    </tr>\n",
              "    <tr>\n",
              "      <th>e</th>\n",
              "      <td>NaN</td>\n",
              "      <td>40.0</td>\n",
              "    </tr>\n",
              "  </tbody>\n",
              "</table>\n",
              "</div>"
            ],
            "text/plain": [
              "    one   two\n",
              "a  10.0  10.0\n",
              "b  20.0  20.0\n",
              "c  30.0  30.0\n",
              "d  40.0   NaN\n",
              "e   NaN  40.0"
            ]
          },
          "metadata": {
            "tags": []
          },
          "execution_count": 50
        }
      ]
    },
    {
      "cell_type": "code",
      "metadata": {
        "id": "zDOBrEfGh0i8",
        "colab_type": "code",
        "colab": {}
      },
      "source": [
        ""
      ],
      "execution_count": 0,
      "outputs": []
    }
  ]
}
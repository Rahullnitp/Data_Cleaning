{
  "nbformat": 4,
  "nbformat_minor": 0,
  "metadata": {
    "colab": {
      "name": "Data_Creation.ipynb",
      "provenance": [],
      "include_colab_link": true
    },
    "kernelspec": {
      "name": "python3",
      "display_name": "Python 3"
    }
  },
  "cells": [
    {
      "cell_type": "markdown",
      "metadata": {
        "id": "view-in-github",
        "colab_type": "text"
      },
      "source": [
        "<a href=\"https://colab.research.google.com/github/Rahullnitp/Data_Cleaning_And_Preprocessing/blob/master/Data_Creation.ipynb\" target=\"_parent\"><img src=\"https://colab.research.google.com/assets/colab-badge.svg\" alt=\"Open In Colab\"/></a>"
      ]
    },
    {
      "cell_type": "markdown",
      "metadata": {
        "id": "MaXrHl8yyE6a",
        "colab_type": "text"
      },
      "source": [
        "##Dataframe creation"
      ]
    },
    {
      "cell_type": "code",
      "metadata": {
        "id": "6VR4YIu7yEPZ",
        "colab_type": "code",
        "colab": {}
      },
      "source": [
        "import os\n",
        "import pandas as pd\n",
        "import numpy as np\n",
        "import matplotlib.pyplot as plt\n",
        "import seaborn as sns\n",
        "%matplotlib inline\n"
      ],
      "execution_count": 0,
      "outputs": []
    },
    {
      "cell_type": "markdown",
      "metadata": {
        "id": "RPrADbrPy-3z",
        "colab_type": "text"
      },
      "source": [
        "####i).Data creation using \"random.randn\"\n",
        "\n",
        "       \n",
        "randn create a dataset with normal distribution with mean = 0 and variance = 1."
      ]
    },
    {
      "cell_type": "code",
      "metadata": {
        "id": "-Isj1SwCnzPg",
        "colab_type": "code",
        "colab": {}
      },
      "source": [
        "#dataset with 1000 rows and 4 columns\n",
        "data=pd.DataFrame(np.random.randn(1000,4),columns=list('ABCD'))"
      ],
      "execution_count": 0,
      "outputs": []
    },
    {
      "cell_type": "code",
      "metadata": {
        "id": "y32AKYqGzYZ6",
        "colab_type": "code",
        "colab": {
          "base_uri": "https://localhost:8080/",
          "height": 194
        },
        "outputId": "eaad7d79-0894-4ae0-e3b3-9a51976f60e0"
      },
      "source": [
        "data.head()"
      ],
      "execution_count": 4,
      "outputs": [
        {
          "output_type": "execute_result",
          "data": {
            "text/html": [
              "<div>\n",
              "<style scoped>\n",
              "    .dataframe tbody tr th:only-of-type {\n",
              "        vertical-align: middle;\n",
              "    }\n",
              "\n",
              "    .dataframe tbody tr th {\n",
              "        vertical-align: top;\n",
              "    }\n",
              "\n",
              "    .dataframe thead th {\n",
              "        text-align: right;\n",
              "    }\n",
              "</style>\n",
              "<table border=\"1\" class=\"dataframe\">\n",
              "  <thead>\n",
              "    <tr style=\"text-align: right;\">\n",
              "      <th></th>\n",
              "      <th>A</th>\n",
              "      <th>B</th>\n",
              "      <th>C</th>\n",
              "      <th>D</th>\n",
              "    </tr>\n",
              "  </thead>\n",
              "  <tbody>\n",
              "    <tr>\n",
              "      <th>0</th>\n",
              "      <td>-0.134084</td>\n",
              "      <td>0.373290</td>\n",
              "      <td>1.122386</td>\n",
              "      <td>2.248496</td>\n",
              "    </tr>\n",
              "    <tr>\n",
              "      <th>1</th>\n",
              "      <td>-1.179892</td>\n",
              "      <td>0.026447</td>\n",
              "      <td>-0.574110</td>\n",
              "      <td>-0.510453</td>\n",
              "    </tr>\n",
              "    <tr>\n",
              "      <th>2</th>\n",
              "      <td>0.503048</td>\n",
              "      <td>-0.394235</td>\n",
              "      <td>1.507973</td>\n",
              "      <td>-0.447823</td>\n",
              "    </tr>\n",
              "    <tr>\n",
              "      <th>3</th>\n",
              "      <td>0.243927</td>\n",
              "      <td>-0.932370</td>\n",
              "      <td>-0.739791</td>\n",
              "      <td>0.524392</td>\n",
              "    </tr>\n",
              "    <tr>\n",
              "      <th>4</th>\n",
              "      <td>0.840776</td>\n",
              "      <td>-0.710923</td>\n",
              "      <td>2.818991</td>\n",
              "      <td>-1.394936</td>\n",
              "    </tr>\n",
              "  </tbody>\n",
              "</table>\n",
              "</div>"
            ],
            "text/plain": [
              "          A         B         C         D\n",
              "0 -0.134084  0.373290  1.122386  2.248496\n",
              "1 -1.179892  0.026447 -0.574110 -0.510453\n",
              "2  0.503048 -0.394235  1.507973 -0.447823\n",
              "3  0.243927 -0.932370 -0.739791  0.524392\n",
              "4  0.840776 -0.710923  2.818991 -1.394936"
            ]
          },
          "metadata": {
            "tags": []
          },
          "execution_count": 4
        }
      ]
    },
    {
      "cell_type": "code",
      "metadata": {
        "id": "5nL7dwwe0BCT",
        "colab_type": "code",
        "colab": {}
      },
      "source": [
        ""
      ],
      "execution_count": 0,
      "outputs": []
    },
    {
      "cell_type": "markdown",
      "metadata": {
        "id": "2hx1mcwx07Of",
        "colab_type": "text"
      },
      "source": [
        "###ii).Data Creation using \"random.randint\"\n",
        "\n",
        "Return random integers from the “discrete uniform” distribution of the specified dtype in the “half-open” interval [low, high). If high is None (the default), then results are from [0, low)."
      ]
    },
    {
      "cell_type": "code",
      "metadata": {
        "id": "2_-3ZXLv1F4g",
        "colab_type": "code",
        "colab": {}
      },
      "source": [
        "data1=pd.DataFrame(np.random.randint(0,100,size=(1000,4)),columns=list('ABCD'))"
      ],
      "execution_count": 0,
      "outputs": []
    },
    {
      "cell_type": "code",
      "metadata": {
        "id": "DMWtnHyo1uzm",
        "colab_type": "code",
        "colab": {
          "base_uri": "https://localhost:8080/",
          "height": 194
        },
        "outputId": "95ec6c3e-3bce-4929-cd4a-96263b5efc89"
      },
      "source": [
        "data1.head()"
      ],
      "execution_count": 6,
      "outputs": [
        {
          "output_type": "execute_result",
          "data": {
            "text/html": [
              "<div>\n",
              "<style scoped>\n",
              "    .dataframe tbody tr th:only-of-type {\n",
              "        vertical-align: middle;\n",
              "    }\n",
              "\n",
              "    .dataframe tbody tr th {\n",
              "        vertical-align: top;\n",
              "    }\n",
              "\n",
              "    .dataframe thead th {\n",
              "        text-align: right;\n",
              "    }\n",
              "</style>\n",
              "<table border=\"1\" class=\"dataframe\">\n",
              "  <thead>\n",
              "    <tr style=\"text-align: right;\">\n",
              "      <th></th>\n",
              "      <th>A</th>\n",
              "      <th>B</th>\n",
              "      <th>C</th>\n",
              "      <th>D</th>\n",
              "    </tr>\n",
              "  </thead>\n",
              "  <tbody>\n",
              "    <tr>\n",
              "      <th>0</th>\n",
              "      <td>78</td>\n",
              "      <td>8</td>\n",
              "      <td>7</td>\n",
              "      <td>13</td>\n",
              "    </tr>\n",
              "    <tr>\n",
              "      <th>1</th>\n",
              "      <td>79</td>\n",
              "      <td>98</td>\n",
              "      <td>53</td>\n",
              "      <td>97</td>\n",
              "    </tr>\n",
              "    <tr>\n",
              "      <th>2</th>\n",
              "      <td>78</td>\n",
              "      <td>42</td>\n",
              "      <td>62</td>\n",
              "      <td>43</td>\n",
              "    </tr>\n",
              "    <tr>\n",
              "      <th>3</th>\n",
              "      <td>50</td>\n",
              "      <td>34</td>\n",
              "      <td>10</td>\n",
              "      <td>8</td>\n",
              "    </tr>\n",
              "    <tr>\n",
              "      <th>4</th>\n",
              "      <td>37</td>\n",
              "      <td>74</td>\n",
              "      <td>5</td>\n",
              "      <td>69</td>\n",
              "    </tr>\n",
              "  </tbody>\n",
              "</table>\n",
              "</div>"
            ],
            "text/plain": [
              "    A   B   C   D\n",
              "0  78   8   7  13\n",
              "1  79  98  53  97\n",
              "2  78  42  62  43\n",
              "3  50  34  10   8\n",
              "4  37  74   5  69"
            ]
          },
          "metadata": {
            "tags": []
          },
          "execution_count": 6
        }
      ]
    },
    {
      "cell_type": "code",
      "metadata": {
        "id": "8QxhtH9-1xH4",
        "colab_type": "code",
        "colab": {}
      },
      "source": [
        ""
      ],
      "execution_count": 0,
      "outputs": []
    },
    {
      "cell_type": "markdown",
      "metadata": {
        "id": "YypnNZok1zi3",
        "colab_type": "text"
      },
      "source": [
        "###iii).Data creation with some null values in it.\n",
        "\n",
        "create a dataframe with approximately 10% null values."
      ]
    },
    {
      "cell_type": "code",
      "metadata": {
        "id": "D_XWJo6c2hpg",
        "colab_type": "code",
        "colab": {}
      },
      "source": [
        "data_null=pd.DataFrame(np.random.randn(1000,4),columns=list('ABCD'))"
      ],
      "execution_count": 0,
      "outputs": []
    },
    {
      "cell_type": "code",
      "metadata": {
        "id": "Sohyp7dl2qMd",
        "colab_type": "code",
        "colab": {
          "base_uri": "https://localhost:8080/",
          "height": 194
        },
        "outputId": "b0274942-9af6-4423-d581-86e8fdba76e1"
      },
      "source": [
        "data_null.head()"
      ],
      "execution_count": 19,
      "outputs": [
        {
          "output_type": "execute_result",
          "data": {
            "text/html": [
              "<div>\n",
              "<style scoped>\n",
              "    .dataframe tbody tr th:only-of-type {\n",
              "        vertical-align: middle;\n",
              "    }\n",
              "\n",
              "    .dataframe tbody tr th {\n",
              "        vertical-align: top;\n",
              "    }\n",
              "\n",
              "    .dataframe thead th {\n",
              "        text-align: right;\n",
              "    }\n",
              "</style>\n",
              "<table border=\"1\" class=\"dataframe\">\n",
              "  <thead>\n",
              "    <tr style=\"text-align: right;\">\n",
              "      <th></th>\n",
              "      <th>A</th>\n",
              "      <th>B</th>\n",
              "      <th>C</th>\n",
              "      <th>D</th>\n",
              "    </tr>\n",
              "  </thead>\n",
              "  <tbody>\n",
              "    <tr>\n",
              "      <th>0</th>\n",
              "      <td>1.726953</td>\n",
              "      <td>-0.729502</td>\n",
              "      <td>-1.824768</td>\n",
              "      <td>0.503310</td>\n",
              "    </tr>\n",
              "    <tr>\n",
              "      <th>1</th>\n",
              "      <td>1.253560</td>\n",
              "      <td>-0.913874</td>\n",
              "      <td>-0.300500</td>\n",
              "      <td>-0.042660</td>\n",
              "    </tr>\n",
              "    <tr>\n",
              "      <th>2</th>\n",
              "      <td>-0.486943</td>\n",
              "      <td>-0.380398</td>\n",
              "      <td>-0.213319</td>\n",
              "      <td>0.273448</td>\n",
              "    </tr>\n",
              "    <tr>\n",
              "      <th>3</th>\n",
              "      <td>1.340924</td>\n",
              "      <td>0.281709</td>\n",
              "      <td>-1.711545</td>\n",
              "      <td>-0.503509</td>\n",
              "    </tr>\n",
              "    <tr>\n",
              "      <th>4</th>\n",
              "      <td>0.062714</td>\n",
              "      <td>-0.240059</td>\n",
              "      <td>-0.157923</td>\n",
              "      <td>0.010388</td>\n",
              "    </tr>\n",
              "  </tbody>\n",
              "</table>\n",
              "</div>"
            ],
            "text/plain": [
              "          A         B         C         D\n",
              "0  1.726953 -0.729502 -1.824768  0.503310\n",
              "1  1.253560 -0.913874 -0.300500 -0.042660\n",
              "2 -0.486943 -0.380398 -0.213319  0.273448\n",
              "3  1.340924  0.281709 -1.711545 -0.503509\n",
              "4  0.062714 -0.240059 -0.157923  0.010388"
            ]
          },
          "metadata": {
            "tags": []
          },
          "execution_count": 19
        }
      ]
    },
    {
      "cell_type": "code",
      "metadata": {
        "id": "cv8GhAom1zKA",
        "colab_type": "code",
        "colab": {}
      },
      "source": [
        "data_null = data_null.mask(np.random.random(data_null.shape)< .1)   # difference bn \"random.random\" and \"random.randn\" by this link --https://stackoverflow.com/questions/47231852/np-random-rand-vs-np-random-random"
      ],
      "execution_count": 0,
      "outputs": []
    },
    {
      "cell_type": "code",
      "metadata": {
        "id": "1hhxKQ1k3A9w",
        "colab_type": "code",
        "colab": {
          "base_uri": "https://localhost:8080/",
          "height": 194
        },
        "outputId": "7e66efb0-b5d6-4d13-8cee-a41745bb67e2"
      },
      "source": [
        "data_null.head()"
      ],
      "execution_count": 21,
      "outputs": [
        {
          "output_type": "execute_result",
          "data": {
            "text/html": [
              "<div>\n",
              "<style scoped>\n",
              "    .dataframe tbody tr th:only-of-type {\n",
              "        vertical-align: middle;\n",
              "    }\n",
              "\n",
              "    .dataframe tbody tr th {\n",
              "        vertical-align: top;\n",
              "    }\n",
              "\n",
              "    .dataframe thead th {\n",
              "        text-align: right;\n",
              "    }\n",
              "</style>\n",
              "<table border=\"1\" class=\"dataframe\">\n",
              "  <thead>\n",
              "    <tr style=\"text-align: right;\">\n",
              "      <th></th>\n",
              "      <th>A</th>\n",
              "      <th>B</th>\n",
              "      <th>C</th>\n",
              "      <th>D</th>\n",
              "    </tr>\n",
              "  </thead>\n",
              "  <tbody>\n",
              "    <tr>\n",
              "      <th>0</th>\n",
              "      <td>1.726953</td>\n",
              "      <td>-0.729502</td>\n",
              "      <td>-1.824768</td>\n",
              "      <td>0.503310</td>\n",
              "    </tr>\n",
              "    <tr>\n",
              "      <th>1</th>\n",
              "      <td>1.253560</td>\n",
              "      <td>-0.913874</td>\n",
              "      <td>NaN</td>\n",
              "      <td>-0.042660</td>\n",
              "    </tr>\n",
              "    <tr>\n",
              "      <th>2</th>\n",
              "      <td>-0.486943</td>\n",
              "      <td>NaN</td>\n",
              "      <td>-0.213319</td>\n",
              "      <td>0.273448</td>\n",
              "    </tr>\n",
              "    <tr>\n",
              "      <th>3</th>\n",
              "      <td>1.340924</td>\n",
              "      <td>0.281709</td>\n",
              "      <td>NaN</td>\n",
              "      <td>-0.503509</td>\n",
              "    </tr>\n",
              "    <tr>\n",
              "      <th>4</th>\n",
              "      <td>0.062714</td>\n",
              "      <td>-0.240059</td>\n",
              "      <td>-0.157923</td>\n",
              "      <td>0.010388</td>\n",
              "    </tr>\n",
              "  </tbody>\n",
              "</table>\n",
              "</div>"
            ],
            "text/plain": [
              "          A         B         C         D\n",
              "0  1.726953 -0.729502 -1.824768  0.503310\n",
              "1  1.253560 -0.913874       NaN -0.042660\n",
              "2 -0.486943       NaN -0.213319  0.273448\n",
              "3  1.340924  0.281709       NaN -0.503509\n",
              "4  0.062714 -0.240059 -0.157923  0.010388"
            ]
          },
          "metadata": {
            "tags": []
          },
          "execution_count": 21
        }
      ]
    },
    {
      "cell_type": "code",
      "metadata": {
        "id": "xgdwrkGX4qx2",
        "colab_type": "code",
        "colab": {}
      },
      "source": [
        ""
      ],
      "execution_count": 0,
      "outputs": []
    }
  ]
}